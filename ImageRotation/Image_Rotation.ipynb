{
 "cells": [
  {
   "cell_type": "markdown",
   "metadata": {
    "id": "WFzXrdKnRbBc"
   },
   "source": [
    "In this notebook, we will implement an autoencoder for rotating MNIST images."
   ]
  },
  {
   "cell_type": "code",
   "execution_count": null,
   "metadata": {
    "colab": {
     "base_uri": "https://localhost:8080/"
    },
    "executionInfo": {
     "elapsed": 14993,
     "status": "ok",
     "timestamp": 1640788874258,
     "user": {
      "displayName": "Pooya Esmaeil Akhondy",
      "photoUrl": "https://lh3.googleusercontent.com/a/default-user=s64",
      "userId": "04838859383550688705"
     },
     "user_tz": -210
    },
    "id": "7bvSzyhlnXG5",
    "outputId": "b81a833d-20c4-44e0-d06e-f8520dbc48b2"
   },
   "outputs": [
    {
     "name": "stdout",
     "output_type": "stream",
     "text": [
      "\u001b[?25l\r",
      "\u001b[K     |███████▋                        | 10 kB 27.5 MB/s eta 0:00:01\r",
      "\u001b[K     |███████████████▎                | 20 kB 30.7 MB/s eta 0:00:01\r",
      "\u001b[K     |███████████████████████         | 30 kB 22.4 MB/s eta 0:00:01\r",
      "\u001b[K     |██████████████████████████████▋ | 40 kB 17.4 MB/s eta 0:00:01\r",
      "\u001b[K     |████████████████████████████████| 42 kB 1.3 MB/s \n",
      "\u001b[K     |████████████████████████████████| 56 kB 4.7 MB/s \n",
      "\u001b[K     |████████████████████████████████| 214 kB 51.3 MB/s \n",
      "\u001b[K     |████████████████████████████████| 57 kB 5.1 MB/s \n",
      "\u001b[K     |████████████████████████████████| 10.1 MB 57.3 MB/s \n",
      "\u001b[K     |████████████████████████████████| 51 kB 6.7 MB/s \n",
      "\u001b[?25h"
     ]
    }
   ],
   "source": [
    "# Installing torch_snippets\n",
    "!pip install -q torch_snippets\n",
    "# importing libraries\n",
    "from torch_snippets import *\n",
    "from torchvision.datasets import MNIST\n",
    "from torchvision import transforms\n",
    "# we will use gpu in case of availability\n",
    "device = 'cuda' if torch.cuda.is_available() else 'cpu'"
   ]
  },
  {
   "cell_type": "code",
   "execution_count": null,
   "metadata": {
    "colab": {
     "base_uri": "https://localhost:8080/",
     "height": 423,
     "referenced_widgets": [
      "f50c9d55fb0140219d39c24377e92419",
      "51bf36ffbbcd44e798c9ffc049b2d191",
      "f6f40f018dab4ac49241371032fa6b88",
      "a31d54442c894700a467345a2a09a91b",
      "cdd6ecf3e99c44928bb9f835855c2b8f",
      "ccc9b10e617b479897d9aa9a9898fe67",
      "104336b0613b4e8abf428dd96ab16b4b",
      "79d8a30b16f84e28854ab5d005f8de0e",
      "98b9926c6c6149c783be21f841ce197b",
      "330c5870d21147149e403a76002684c8",
      "3ee0881a4a624d79acde36cf16d8b7ba",
      "350298c5512947b79028b40dc5d626e4",
      "520d3ec2d827401980f843f67308fdc3",
      "af9caea80bd84d1584e488ea92c6f502",
      "beb6de42fd9f4e58a0620f06a6a71859",
      "925c7a00fbd8431e8f1c3d53cbe822ea",
      "2778d1dc880a427fa203987e61374030",
      "b937b1b49d7842d1a7139c13e12f7354",
      "2a7c8bde24024aabbae97fda574e4259",
      "ecdb2076991045e2ad12cb60466aaf7f",
      "dc481bd40639419c8cbd4552c7605329",
      "aafeb670e0614a39b0113b1e27cd4acf",
      "ba3a8de66ad944268ab1301830241c4e",
      "7f1f17f2dd4a4fda84554cc8d9dfff77",
      "ac10dfb20b3b4bb69009e6ab3edf51b9",
      "00677d4c61f84c6591343e04f300ec16",
      "32ee46bcddd84c86a9d2647085d84107",
      "e11878ccd1ee479d809cbcc5ec1117c9",
      "8a62c29f01be4d8d993e630b0b8586f2",
      "db8c59bf0a724cbbafdc2cd4960ab7d8",
      "96874252b9f047eba8d742169aef9c03",
      "6c18f1c4b0754e48bb7e3750d969808c",
      "a8f25b1e58104eea91ea83d2278efa73",
      "3a3ecb188aa3462088d2ce9f2bb70858",
      "912cc5586883499cbddcd8e1acc36041",
      "5460a156d2f14c61be43d771d55f4a88",
      "0d6e6fbe97084f48a9545db710df82cf",
      "35780b85d2cf4416947d202fc3179b90",
      "27c5fd79bdcc4c03a459d22124979ad5",
      "6eafa515d9774037a03e242a6ae95ac4",
      "32eb769e7bf74088918034b863dff7ec",
      "0e9d6f39f8f44fbaabe56057ee8fbc63",
      "8e88ab1696fa43b39e5d80f32fcbb386",
      "fa92b3ff650f418ab61fbc3b5000f4a4"
     ]
    },
    "executionInfo": {
     "elapsed": 1536,
     "status": "ok",
     "timestamp": 1640788883694,
     "user": {
      "displayName": "Pooya Esmaeil Akhondy",
      "photoUrl": "https://lh3.googleusercontent.com/a/default-user=s64",
      "userId": "04838859383550688705"
     },
     "user_tz": -210
    },
    "id": "b79zaL95naXW",
    "outputId": "2bee00e4-cd36-4610-d925-713e3f149211"
   },
   "outputs": [
    {
     "name": "stdout",
     "output_type": "stream",
     "text": [
      "Downloading http://yann.lecun.com/exdb/mnist/train-images-idx3-ubyte.gz\n",
      "Downloading http://yann.lecun.com/exdb/mnist/train-images-idx3-ubyte.gz to /content/MNIST/raw/train-images-idx3-ubyte.gz\n"
     ]
    },
    {
     "data": {
      "application/vnd.jupyter.widget-view+json": {
       "model_id": "f50c9d55fb0140219d39c24377e92419",
       "version_major": 2,
       "version_minor": 0
      },
      "text/plain": [
       "  0%|          | 0/9912422 [00:00<?, ?it/s]"
      ]
     },
     "metadata": {},
     "output_type": "display_data"
    },
    {
     "name": "stdout",
     "output_type": "stream",
     "text": [
      "Extracting /content/MNIST/raw/train-images-idx3-ubyte.gz to /content/MNIST/raw\n",
      "\n",
      "Downloading http://yann.lecun.com/exdb/mnist/train-labels-idx1-ubyte.gz\n",
      "Downloading http://yann.lecun.com/exdb/mnist/train-labels-idx1-ubyte.gz to /content/MNIST/raw/train-labels-idx1-ubyte.gz\n"
     ]
    },
    {
     "data": {
      "application/vnd.jupyter.widget-view+json": {
       "model_id": "350298c5512947b79028b40dc5d626e4",
       "version_major": 2,
       "version_minor": 0
      },
      "text/plain": [
       "  0%|          | 0/28881 [00:00<?, ?it/s]"
      ]
     },
     "metadata": {},
     "output_type": "display_data"
    },
    {
     "name": "stdout",
     "output_type": "stream",
     "text": [
      "Extracting /content/MNIST/raw/train-labels-idx1-ubyte.gz to /content/MNIST/raw\n",
      "\n",
      "Downloading http://yann.lecun.com/exdb/mnist/t10k-images-idx3-ubyte.gz\n",
      "Downloading http://yann.lecun.com/exdb/mnist/t10k-images-idx3-ubyte.gz to /content/MNIST/raw/t10k-images-idx3-ubyte.gz\n"
     ]
    },
    {
     "data": {
      "application/vnd.jupyter.widget-view+json": {
       "model_id": "ba3a8de66ad944268ab1301830241c4e",
       "version_major": 2,
       "version_minor": 0
      },
      "text/plain": [
       "  0%|          | 0/1648877 [00:00<?, ?it/s]"
      ]
     },
     "metadata": {},
     "output_type": "display_data"
    },
    {
     "name": "stdout",
     "output_type": "stream",
     "text": [
      "Extracting /content/MNIST/raw/t10k-images-idx3-ubyte.gz to /content/MNIST/raw\n",
      "\n",
      "Downloading http://yann.lecun.com/exdb/mnist/t10k-labels-idx1-ubyte.gz\n",
      "Downloading http://yann.lecun.com/exdb/mnist/t10k-labels-idx1-ubyte.gz to /content/MNIST/raw/t10k-labels-idx1-ubyte.gz\n"
     ]
    },
    {
     "data": {
      "application/vnd.jupyter.widget-view+json": {
       "model_id": "3a3ecb188aa3462088d2ce9f2bb70858",
       "version_major": 2,
       "version_minor": 0
      },
      "text/plain": [
       "  0%|          | 0/4542 [00:00<?, ?it/s]"
      ]
     },
     "metadata": {},
     "output_type": "display_data"
    },
    {
     "name": "stdout",
     "output_type": "stream",
     "text": [
      "Extracting /content/MNIST/raw/t10k-labels-idx1-ubyte.gz to /content/MNIST/raw\n",
      "\n"
     ]
    }
   ],
   "source": [
    "# img_transform helps transform data from a dataset to tensors usable in code\n",
    "img_transform = transforms.Compose([\n",
    "    transforms.ToTensor(),\n",
    "    transforms.Normalize([0.5], [0.5]),\n",
    "    transforms.Lambda(lambda x: x.to(device))\n",
    "])\n",
    "\n",
    "# trn_ds = train dataset\n",
    "# we will download MNIST dataset for trn_ds and we set train = True\n",
    "trn_ds = MNIST('/content/', transform = img_transform, train = True, download = True)\n",
    "\n",
    "# val_ds = validation dataset\n",
    "# we will download MNIST dataset for val_ds but we must set train = False\n",
    "val_ds = MNIST('/content/', transform = img_transform, train = False, download = True)\n",
    "\n",
    "batch_size = 256\n",
    "\n",
    "# trn_dl is the dataset that dataloader provides to us. It shuffles the initial MNIST dataset and groups them in batches of size 256\n",
    "trn_dl = DataLoader(trn_ds, batch_size = batch_size, shuffle = True)\n",
    "\n",
    "# val_dl is the dataset that dataloader provides to us. For validation dataset, we don't shuffle the initial dataset but we still group them in batches of size 256\n",
    "val_dl = DataLoader(val_ds, batch_size = batch_size, shuffle = False)"
   ]
  },
  {
   "cell_type": "code",
   "execution_count": null,
   "metadata": {
    "id": "WSXQVoi6nag-"
   },
   "outputs": [],
   "source": [
    "# AutoEncoder Class\n",
    "class AutoEncoder(nn.Module):\n",
    "    def __init__(self, latent_dim):\n",
    "        super().__init__()\n",
    "        \n",
    "        # latend_dim is the dimension of features at the bottleneck layer, the layer that connects encoder and decoder \n",
    "        self.latend_dim = latent_dim\n",
    "        \n",
    "        # encoder is made of three linear layers each going through a ReLU activation function.\n",
    "        self.encoder = nn.Sequential(\n",
    "            nn.Linear(28 * 28, 128),\n",
    "            nn.ReLU(True),\n",
    "            nn.Linear(128, 64), \n",
    "            nn.ReLU(True), \n",
    "            nn.Linear(64, latent_dim))\n",
    "        \n",
    "        # decoder is made of three linear layers, the first two go through a ReLU activation function and lastly comes a Tanh.\n",
    "        self.decoder = nn.Sequential(\n",
    "            nn.Linear(latent_dim, 64), \n",
    "            nn.ReLU(True),\n",
    "            nn.Linear(64, 128), \n",
    "            nn.ReLU(True), \n",
    "            nn.Linear(128, 28 * 28),\n",
    "            nn.Tanh())\n",
    "        \n",
    "    # the forward function of the model. which must always be overridden.\n",
    "    def forward(self, x):\n",
    "        # convert x to a one dimensional input\n",
    "        x = x.view(len(x), -1)\n",
    "        # x goes through the encoder\n",
    "        x = self.encoder(x)\n",
    "        # x goes through the decoder\n",
    "        x = self.decoder(x)\n",
    "        # convert x back to its original dimensions.\n",
    "        x = x.view(len(x), 1, 28, 28)\n",
    "        return x"
   ]
  },
  {
   "cell_type": "code",
   "execution_count": null,
   "metadata": {
    "colab": {
     "base_uri": "https://localhost:8080/"
    },
    "executionInfo": {
     "elapsed": 3851,
     "status": "ok",
     "timestamp": 1640788895986,
     "user": {
      "displayName": "Pooya Esmaeil Akhondy",
      "photoUrl": "https://lh3.googleusercontent.com/a/default-user=s64",
      "userId": "04838859383550688705"
     },
     "user_tz": -210
    },
    "id": "PE9ECPphnanU",
    "outputId": "7c12a6dc-b36c-415e-f466-3dd61a24219a"
   },
   "outputs": [
    {
     "name": "stdout",
     "output_type": "stream",
     "text": [
      "Collecting torch_summary\n",
      "  Downloading torch_summary-1.4.5-py3-none-any.whl (16 kB)\n",
      "Installing collected packages: torch-summary\n",
      "Successfully installed torch-summary-1.4.5\n",
      "==========================================================================================\n",
      "Layer (type:depth-idx)                   Output Shape              Param #\n",
      "==========================================================================================\n",
      "├─Sequential: 1-1                        [-1, 2000]                --\n",
      "|    └─Linear: 2-1                       [-1, 128]                 100,480\n",
      "|    └─ReLU: 2-2                         [-1, 128]                 --\n",
      "|    └─Linear: 2-3                       [-1, 64]                  8,256\n",
      "|    └─ReLU: 2-4                         [-1, 64]                  --\n",
      "|    └─Linear: 2-5                       [-1, 2000]                130,000\n",
      "├─Sequential: 1-2                        [-1, 784]                 --\n",
      "|    └─Linear: 2-6                       [-1, 64]                  128,064\n",
      "|    └─ReLU: 2-7                         [-1, 64]                  --\n",
      "|    └─Linear: 2-8                       [-1, 128]                 8,320\n",
      "|    └─ReLU: 2-9                         [-1, 128]                 --\n",
      "|    └─Linear: 2-10                      [-1, 784]                 101,136\n",
      "|    └─Tanh: 2-11                        [-1, 784]                 --\n",
      "==========================================================================================\n",
      "Total params: 476,256\n",
      "Trainable params: 476,256\n",
      "Non-trainable params: 0\n",
      "Total mult-adds (M): 0.95\n",
      "==========================================================================================\n",
      "Input size (MB): 0.01\n",
      "Forward/backward pass size (MB): 0.02\n",
      "Params size (MB): 1.82\n",
      "Estimated Total Size (MB): 1.85\n",
      "==========================================================================================\n"
     ]
    }
   ],
   "source": [
    "# installing torch_summary\n",
    "# The aim of using torch_summary is only to obtain a summary of the model we have just created.\n",
    "!pip install torch_summary\n",
    "\n",
    "from torchsummary import summary\n",
    "# creating a sample AutoEncoder with 2000 as latent_dim\n",
    "model = AutoEncoder(2000).to(device)\n",
    "\n",
    "# output the summary of model\n",
    "summary(model, torch.zeros(2,1,28,28));"
   ]
  },
  {
   "cell_type": "code",
   "execution_count": null,
   "metadata": {
    "id": "EAf5Jvllnaso"
   },
   "outputs": [],
   "source": [
    "# train_batch is the function that trains our model.\n",
    "# Inputs:\n",
    "# input : the input should be a batch of size 256 of inputs and they should be initially on cpu.\n",
    "# model : we always give our AutoEncoder model here. :)\n",
    "# criterion : The system that we use for evaluating the loss function.\n",
    "# optimizer : optimizer keeps the gradients of the model and it's used at backpropogation.\n",
    "# ground_truth : the ground_truth labels of our input. Similar to input, ground_truth should be a batch of size 256 and they should be on cpu.\n",
    "def train_batch(input, model, criterion, optimizer, ground_truth):\n",
    "    # converting input to gpu. (In fact, we convert data to device but we assume beforehand that we have gpu and device = cuda)\n",
    "    input = input.to(device)\n",
    "    # similarly, convert ground_truth to gpu\n",
    "    ground_truth = ground_truth.to(device)\n",
    "    # preparing model for training\n",
    "    model.train()\n",
    "    # resetting all gradients in optimizer to 0. So that gradients saved from previous calls on train_batch won't affect this call of train_batch\n",
    "    optimizer.zero_grad()\n",
    "    # output is the output of input after it has gone through our model \n",
    "    output = model(input)\n",
    "    # calculating loss using criterion and the ground_truth we were given\n",
    "    loss = criterion(output, ground_truth)\n",
    "    # backpropogating\n",
    "    loss.backward()\n",
    "    # our optimizer takes a step here. It means that parameters are updated once.\n",
    "    optimizer.step()\n",
    "    # loss is returned as output of this function\n",
    "    return loss\n",
    "\n",
    "# putting no_grad decorater at top of validation_batch function because at validation, we should not calculate gradients or update parameters\n",
    "@torch.no_grad()\n",
    "def validate_batch(input, model, criterion, ground_truth):\n",
    "    # preparing model for evaluating\n",
    "    model.eval()\n",
    "    # converting input to gpu\n",
    "    input = input.to(device)\n",
    "    # converting ground_truth to gpu\n",
    "    ground_truth = ground_truth.to(device)\n",
    "    # output is the output of input after it has gone through our model\n",
    "    output = model(input)\n",
    "    # calculating loss using criterion and the ground_truth we were given \n",
    "    loss = criterion(output, ground_truth)\n",
    "    # loss is returned as output of this function\n",
    "    return loss"
   ]
  },
  {
   "cell_type": "code",
   "execution_count": null,
   "metadata": {
    "id": "agjUtCtYnawk"
   },
   "outputs": [],
   "source": [
    "# this function returns the 2*2 tensor that we must give as input to F.affine_grid if we want to rotate our image by theta degrees.\n",
    "def get_rot_mat(theta):\n",
    "    theta = torch.tensor(theta)\n",
    "    return torch.tensor([[torch.cos(theta), -torch.sin(theta), 0],\n",
    "                         [torch.sin(theta), torch.cos(theta), 0]])\n",
    "\n",
    "# this function returns the rotated image of x by theta degreed. \n",
    "# dtype is the type that we use for data conversion. Here, we use FloatTensor\n",
    "# x should be on cpu\n",
    "def rot_img(x, theta, dtype):\n",
    "    # rot_matt is the tensor that we must give to affine_grid.\n",
    "    # Basically, the rotation of image is done through the use of matrix multiplication and in rotation, we requires tensors with cos(theta) sin(theta) in our computation.\n",
    "    rot_matt = get_rot_mat(theta)[None, ...].type(dtype).repeat(x.shape[0],1,1)\n",
    "    # converting x to gpu because F.grid_sample takes gpu input\n",
    "    x = torch.from_numpy(x).to(device)\n",
    "    # creating an affine grid\n",
    "    gridd = F.affine_grid(rot_matt, x.size()).type(dtype)\n",
    "    # x is a sample taken from gridd which is now prepared.\n",
    "    x = F.grid_sample(x, gridd)\n",
    "    return x\n",
    "\n",
    "# As said before, we take dtype = FloatTensor to keep precision in computations.\n",
    "dtype =  torch.cuda.FloatTensor if torch.cuda.is_available() else torch.FloatTensor\n",
    "\n",
    "# This function does what its name suggests. :)\n",
    "# data should be our original images in batches of size 256\n",
    "def prepare_randomly_rotated_image(data):\n",
    "    output = None\n",
    "    # an iterator that increases by one for each image that we iterate through data\n",
    "    iter = 0\n",
    "    # iterating through the data\n",
    "    for image in data:\n",
    "        # rotate_degree_numpy is a number that is randomely generated from [0, 1] but later we will multiply it by 360. This variable is in \n",
    "        rotate_degree_numpy = torch.rand(1).numpy()\n",
    "        rotate = 0\n",
    "        for i in rotate_degree_numpy:\n",
    "            rotate = i\n",
    "        # rotate is now a number from [0, 360] \n",
    "        # rotate variable is basically rotate_degree_numpy, we just wanted it not to be of numpy type.\n",
    "        rotate = rotate * 360\n",
    "        \n",
    "        # converting iamge to numpy\n",
    "        image = image.cpu().numpy()\n",
    "        # Here, we simply add a 1 to the first dimension of image so that later, its dimension will be appropriate for calling rot_img\n",
    "        image = np.expand_dims(image, axis=0)\n",
    "        # rotated_image is output of rot_img\n",
    "        rotated_image = rot_img(image, rotate, dtype)\n",
    "        \n",
    "        if iter == 0:\n",
    "            # At iter = 0, we change the previously output = None to output = rotated_image. This line is a kind of initialization.\n",
    "            output = rotated_image\n",
    "        else:\n",
    "            # we concatenate the output of rotated_image to our output\n",
    "            output = torch.cat((output, rotated_image), 0)\n",
    "        # incrementing iterator\n",
    "        iter += 1\n",
    "    return output"
   ]
  },
  {
   "cell_type": "code",
   "execution_count": null,
   "metadata": {
    "colab": {
     "base_uri": "https://localhost:8080/",
     "height": 825
    },
    "executionInfo": {
     "elapsed": 878741,
     "status": "ok",
     "timestamp": 1640789791070,
     "user": {
      "displayName": "Pooya Esmaeil Akhondy",
      "photoUrl": "https://lh3.googleusercontent.com/a/default-user=s64",
      "userId": "04838859383550688705"
     },
     "user_tz": -210
    },
    "id": "7EuAgWqmnoXt",
    "outputId": "f009eaec-97e3-4209-cac8-6318b6d58bab"
   },
   "outputs": [
    {
     "name": "stderr",
     "output_type": "stream",
     "text": [
      "/usr/local/lib/python3.7/dist-packages/torch/nn/functional.py:4066: UserWarning: Default grid_sample and affine_grid behavior has changed to align_corners=False since 1.3.0. Please specify align_corners=True if the old behavior is desired. See the documentation of grid_sample for details.\n",
      "  \"Default grid_sample and affine_grid behavior has changed \"\n",
      "/usr/local/lib/python3.7/dist-packages/torch/nn/functional.py:4004: UserWarning: Default grid_sample and affine_grid behavior has changed to align_corners=False since 1.3.0. Please specify align_corners=True if the old behavior is desired. See the documentation of grid_sample for details.\n",
      "  \"Default grid_sample and affine_grid behavior has changed \"\n"
     ]
    },
    {
     "name": "stdout",
     "output_type": "stream",
     "text": [
      "EPOCH: 1.000\ttrn_loss: 0.249\tval_loss: 0.202\t(42.60s - 809.39s remaining)\n",
      "EPOCH: 2.000\ttrn_loss: 0.192\tval_loss: 0.180\t(86.51s - 778.57s remaining)\n",
      "EPOCH: 3.000\ttrn_loss: 0.171\tval_loss: 0.161\t(129.32s - 732.83s remaining)\n",
      "EPOCH: 4.000\ttrn_loss: 0.154\tval_loss: 0.145\t(173.06s - 692.24s remaining)\n",
      "EPOCH: 5.000\ttrn_loss: 0.143\tval_loss: 0.138\t(216.96s - 650.88s remaining)\n",
      "EPOCH: 6.000\ttrn_loss: 0.137\tval_loss: 0.132\t(260.75s - 608.41s remaining)\n",
      "EPOCH: 7.000\ttrn_loss: 0.132\tval_loss: 0.130\t(304.13s - 564.81s remaining)\n",
      "EPOCH: 8.000\ttrn_loss: 0.129\tval_loss: 0.125\t(347.76s - 521.64s remaining)\n",
      "EPOCH: 9.000\ttrn_loss: 0.126\tval_loss: 0.123\t(391.49s - 478.49s remaining)\n",
      "EPOCH: 10.000\ttrn_loss: 0.123\tval_loss: 0.120\t(434.94s - 434.94s remaining)\n",
      "EPOCH: 11.000\ttrn_loss: 0.121\tval_loss: 0.118\t(478.79s - 391.74s remaining)\n",
      "EPOCH: 12.000\ttrn_loss: 0.119\tval_loss: 0.116\t(523.21s - 348.80s remaining)\n",
      "EPOCH: 13.000\ttrn_loss: 0.117\tval_loss: 0.115\t(567.27s - 305.46s remaining)\n",
      "EPOCH: 14.000\ttrn_loss: 0.115\tval_loss: 0.114\t(611.95s - 262.26s remaining)\n",
      "EPOCH: 15.000\ttrn_loss: 0.113\tval_loss: 0.112\t(655.95s - 218.65s remaining)\n",
      "EPOCH: 16.000\ttrn_loss: 0.112\tval_loss: 0.110\t(700.28s - 175.07s remaining)\n",
      "EPOCH: 17.000\ttrn_loss: 0.110\tval_loss: 0.108\t(744.52s - 131.39s remaining)\n",
      "EPOCH: 18.000\ttrn_loss: 0.109\tval_loss: 0.108\t(789.08s - 87.68s remaining)\n",
      "EPOCH: 19.000\ttrn_loss: 0.108\tval_loss: 0.105\t(833.61s - 43.87s remaining)\n",
      "EPOCH: 20.000\ttrn_loss: 0.107\tval_loss: 0.105\t(877.66s - 0.00s remaining)\n"
     ]
    },
    {
     "data": {
      "image/png": "[encoded data removed]",
      "text/plain": [
       "<Figure size 576x432 with 1 Axes>"
      ]
     },
     "metadata": {
      "needs_background": "light"
     },
     "output_type": "display_data"
    }
   ],
   "source": [
    "# creating a sample model with latent_dim = 2000.\n",
    "# The bigger the latent_dim, the more the features between the encoder and decoder.\n",
    "# Undoubtedly, when more features are given to decoder, more information will be at the of decoder for producing the image.\n",
    "# We choose latent_dim = 2000 here. \n",
    "model = AutoEncoder(2000).to(device)\n",
    "# We choose MSE for criterion\n",
    "criterion = nn.MSELoss()\n",
    "# We choode AdamW for optimizer\n",
    "optimizer = torch.optim.AdamW(model.parameters(), lr = 0.001, weight_decay = 1e-5)\n",
    "# We train model through 20 epoches.\n",
    "# More epochs usually results in better performance.\n",
    "num_epochs = 20\n",
    "# log is used for plotting.\n",
    "log = Report(num_epochs)\n",
    "\n",
    "for epoch in range(num_epochs):\n",
    "    N = len(trn_dl)\n",
    "    \n",
    "    # ix = 0 to N - 1\n",
    "    for ix, (data, _) in enumerate(trn_dl):\n",
    "        # data_rotated keeps the batch of rotated images of data\n",
    "        data_rotated = prepare_randomly_rotated_image(data)\n",
    "        # loss is the output of train_batch\n",
    "        loss = train_batch(data_rotated, model, criterion, optimizer, data)\n",
    "        # log records the postion and train loss.\n",
    "        # This for loop is called N times for each epoch.\n",
    "        # So the position should be epoch + (ix + 1) / N \n",
    "        log.record(pos = (epoch + (ix + 1)/N), trn_loss = loss, end = '\\r')\n",
    "\n",
    "    N = len(val_dl)\n",
    "\n",
    "    # ix = 0 to N - 1\n",
    "    for ix, (data, _) in enumerate(val_dl):\n",
    "        # data_rotated keeps the batch of rotated images of data\n",
    "        data_rotated = prepare_randomly_rotated_image(data)\n",
    "        # loss is the output of validate_batch\n",
    "        loss = validate_batch(data_rotated, model, criterion, data)\n",
    "        # log records the postion and train loss.\n",
    "        # This for loop is called N times for each epoch.\n",
    "        # So the position should be epoch + (ix + 1) / N \n",
    "        log.record(pos=(epoch + (ix + 1)/N), val_loss = loss, end = '\\r')\n",
    "    \n",
    "    log.report_avgs(epoch + 1)\n",
    " # plotting what we have stored in log   \n",
    "log.plot(log = True)"
   ]
  },
  {
   "cell_type": "code",
   "execution_count": null,
   "metadata": {
    "colab": {
     "base_uri": "https://localhost:8080/",
     "height": 1000
    },
    "executionInfo": {
     "elapsed": 2936,
     "status": "ok",
     "timestamp": 1640789922424,
     "user": {
      "displayName": "Pooya Esmaeil Akhondy",
      "photoUrl": "https://lh3.googleusercontent.com/a/default-user=s64",
      "userId": "04838859383550688705"
     },
     "user_tz": -210
    },
    "id": "mTe6kQN4nuD9",
    "outputId": "ea3b4d56-cb3e-42b2-946c-48800429dbed"
   },
   "outputs": [
    {
     "name": "stderr",
     "output_type": "stream",
     "text": [
      "/usr/local/lib/python3.7/dist-packages/torch/nn/functional.py:4066: UserWarning: Default grid_sample and affine_grid behavior has changed to align_corners=False since 1.3.0. Please specify align_corners=True if the old behavior is desired. See the documentation of grid_sample for details.\n",
      "  \"Default grid_sample and affine_grid behavior has changed \"\n",
      "/usr/local/lib/python3.7/dist-packages/torch/nn/functional.py:4004: UserWarning: Default grid_sample and affine_grid behavior has changed to align_corners=False since 1.3.0. Please specify align_corners=True if the old behavior is desired. See the documentation of grid_sample for details.\n",
      "  \"Default grid_sample and affine_grid behavior has changed \"\n"
     ]
    },
    {
     "data": {
      "image/png": "[encoded data removed]",
      "text/plain": [
       "<Figure size 216x216 with 2 Axes>"
      ]
     },
     "metadata": {
      "needs_background": "light"
     },
     "output_type": "display_data"
    },
    {
     "data": {
      "image/png": "[encoded data removed]",
      "text/plain": [
       "<Figure size 216x216 with 2 Axes>"
      ]
     },
     "metadata": {
      "needs_background": "light"
     },
     "output_type": "display_data"
    },
    {
     "data": {
      "image/png": "[encoded data removed]",
      "text/plain": [
       "<Figure size 216x216 with 2 Axes>"
      ]
     },
     "metadata": {
      "needs_background": "light"
     },
     "output_type": "display_data"
    },
    {
     "data": {
      "image/png": "[encoded data removed]",
      "text/plain": [
       "<Figure size 216x216 with 2 Axes>"
      ]
     },
     "metadata": {
      "needs_background": "light"
     },
     "output_type": "display_data"
    },
    {
     "data": {
      "image/png": "[encoded data removed]",
      "text/plain": [
       "<Figure size 216x216 with 2 Axes>"
      ]
     },
     "metadata": {
      "needs_background": "light"
     },
     "output_type": "display_data"
    },
    {
     "data": {
      "image/png": "[encoded data removed]",
      "text/plain": [
       "<Figure size 216x216 with 2 Axes>"
      ]
     },
     "metadata": {
      "needs_background": "light"
     },
     "output_type": "display_data"
    },
    {
     "data": {
      "image/png": "[encoded data removed]",
      "text/plain": [
       "<Figure size 216x216 with 2 Axes>"
      ]
     },
     "metadata": {
      "needs_background": "light"
     },
     "output_type": "display_data"
    },
    {
     "data": {
      "image/png": "[encoded data removed]",
      "text/plain": [
       "<Figure size 216x216 with 2 Axes>"
      ]
     },
     "metadata": {
      "needs_background": "light"
     },
     "output_type": "display_data"
    },
    {
     "data": {
      "image/png": "[encoded data removed]",
      "text/plain": [
       "<Figure size 216x216 with 2 Axes>"
      ]
     },
     "metadata": {
      "needs_background": "light"
     },
     "output_type": "display_data"
    },
    {
     "data": {
      "image/png": "[encoded data removed]",
      "text/plain": [
       "<Figure size 216x216 with 2 Axes>"
      ]
     },
     "metadata": {
      "needs_background": "light"
     },
     "output_type": "display_data"
    },
    {
     "data": {
      "image/png": "[encoded data removed]",
      "text/plain": [
       "<Figure size 216x216 with 2 Axes>"
      ]
     },
     "metadata": {
      "needs_background": "light"
     },
     "output_type": "display_data"
    },
    {
     "data": {
      "image/png": "[encoded data removed]",
      "text/plain": [
       "<Figure size 216x216 with 2 Axes>"
      ]
     },
     "metadata": {
      "needs_background": "light"
     },
     "output_type": "display_data"
    },
    {
     "data": {
      "image/png": "[encoded data removed]",
      "text/plain": [
       "<Figure size 216x216 with 2 Axes>"
      ]
     },
     "metadata": {
      "needs_background": "light"
     },
     "output_type": "display_data"
    },
    {
     "data": {
      "image/png": "[encoded data removed]",
      "text/plain": [
       "<Figure size 216x216 with 2 Axes>"
      ]
     },
     "metadata": {
      "needs_background": "light"
     },
     "output_type": "display_data"
    },
    {
     "data": {
      "image/png": "[encoded data removed]",
      "text/plain": [
       "<Figure size 216x216 with 2 Axes>"
      ]
     },
     "metadata": {
      "needs_background": "light"
     },
     "output_type": "display_data"
    },
    {
     "data": {
      "image/png": "[encoded data removed]",
      "text/plain": [
       "<Figure size 216x216 with 2 Axes>"
      ]
     },
     "metadata": {
      "needs_background": "light"
     },
     "output_type": "display_data"
    },
    {
     "data": {
      "image/png": "[encoded data removed]",
      "text/plain": [
       "<Figure size 216x216 with 2 Axes>"
      ]
     },
     "metadata": {
      "needs_background": "light"
     },
     "output_type": "display_data"
    },
    {
     "data": {
      "image/png": "[encoded data removed]",
      "text/plain": [
       "<Figure size 216x216 with 2 Axes>"
      ]
     },
     "metadata": {
      "needs_background": "light"
     },
     "output_type": "display_data"
    },
    {
     "data": {
      "image/png": "[encoded data removed]",
      "text/plain": [
       "<Figure size 216x216 with 2 Axes>"
      ]
     },
     "metadata": {
      "needs_background": "light"
     },
     "output_type": "display_data"
    },
    {
     "data": {
      "image/png": "[encoded data removed]",
      "text/plain": [
       "<Figure size 216x216 with 2 Axes>"
      ]
     },
     "metadata": {
      "needs_background": "light"
     },
     "output_type": "display_data"
    }
   ],
   "source": [
    "# In this cell, we randomely choose 20 data inputs from validation set and see what the outputs have become.\n",
    "for _ in range(20):\n",
    "    # ix is a randome number from 0 to len(val_ds) - 1\n",
    "    ix = np.random.randint(len(val_ds))\n",
    "    im, _ = val_ds[ix]\n",
    "    im1 = im[None]\n",
    "    im1 = prepare_randomly_rotated_image(im1)\n",
    "    # converting im1 to gpu\n",
    "    im1 = im1.to(device)\n",
    "    # _im is output of im1 after it has gone through our model.\n",
    "    _im = model(im1)[0]\n",
    "    # we prepare a plot where in each row we depict two images. One the input and the second, our prediction.\n",
    "    fig, ax = plt.subplots(1, 2, figsize=(3,3))\n",
    "    im1 = im1[0]\n",
    "    show(im1[0], ax = ax[0], title = 'input')\n",
    "    show(_im[0], ax = ax[1], title = 'prediction')\n",
    "    plt.tight_layout()\n",
    "    plt.show()"
   ]
  },
  {
   "cell_type": "markdown",
   "metadata": {
    "id": "VuL202n0ryA4"
   },
   "source": [
    "As results show, the model has predicted 9, 6, 4, 5, 7, 0, 8 well.\n",
    "\n",
    "One of the mistakes of this model is that we have taken the MNIST itself as the ground truth label, but this is wrong from stratch.\n",
    "\n",
    "A simple proof is the third image from the last, where the 0 digit is given as input. We can see that the predicted 0 isn't upright but if we tilt our head at the input to find out the original image input ( before rotation ) we see that the original image itself was a tilted 0. So, when we were reducing the loss of model, our model was actually trying to output sth like this and so, when it has given a tilted 0 as output, it means it did a good job at this input.\n",
    "\n",
    "For example, one huge problem is that 6 and 9 are basically the same and they are simply 180 rotations of each other, so basically when we are given a rotated 6, we should either equally output 6 and 9 or simply say that the output cannot be given and we are uncertain about it.\n",
    "\n",
    "Simply, assume a rotated 6 and rotated 9 that have accidently became the same image. So in our model both of these have been given as input to our model. But the ground truth label for one of them is 6 and for the other is 9. This confuses our model as it is unable to learn or converge to anywhere appropriately. But it has an interesting consequence, our model equally tries to generate both 6 and 9 and if you put a 6 and 9 next to each other, you find a 0 with a crossed line inside it, similar to how the THETA variable is written and if you look at the 6th input, this is basically what has happened. A combination of 6 and 9 have been given as output. But in some cases, our model has appropriately given the output. For example, in the first example, we see a 9 that is drawn straight and our model has correctly learned this straight part of 9 digit and gave a good output.\n",
    "\n",
    "Moreover, the generativity of model is apparent from the outputs. The digits created at output are not necessarily simliar to the inputs in terms of brightness, thickness or size, which suggests our model is generative."
   ]
  },
  {
   "cell_type": "code",
   "execution_count": null,
   "metadata": {
    "colab": {
     "base_uri": "https://localhost:8080/"
    },
    "executionInfo": {
     "elapsed": 71848,
     "status": "ok",
     "timestamp": 1640791241500,
     "user": {
      "displayName": "Pooya Esmaeil Akhondy",
      "photoUrl": "https://lh3.googleusercontent.com/a/default-user=s64",
      "userId": "04838859383550688705"
     },
     "user_tz": -210
    },
    "id": "i5Po3vQqxhew",
    "outputId": "dbb7f0a5-2c00-4385-a7d2-0ac522734865"
   },
   "outputs": [
    {
     "name": "stdout",
     "output_type": "stream",
     "text": [
      "Mounted at /content/gdrive\n"
     ]
    }
   ],
   "source": [
    "# preparing google colab to have access to drive.\n",
    "# This cell doesn't have to be run if you have done it before.\n",
    "from google.colab import drive\n",
    "drive.mount('/content/gdrive')"
   ]
  },
  {
   "cell_type": "code",
   "execution_count": null,
   "metadata": {
    "id": "a9Okuaqyyo_d"
   },
   "outputs": [],
   "source": [
    "model_save_name = 'model.pth.tar'\n",
    "path = f'/content/gdrive/My Drive/{model_save_name}'\n",
    "# we save model.state_dict() and optimizer.state_dict()\n",
    "# we could save other things if we wanted too.\n",
    "torch.save({\n",
    "    'state_dict': model.state_dict(),\n",
    "    'optimizer' : optimizer.state_dict(),\n",
    "}, path)"
   ]
  },
  {
   "cell_type": "code",
   "execution_count": null,
   "metadata": {
    "colab": {
     "base_uri": "https://localhost:8080/",
     "height": 1000
    },
    "executionInfo": {
     "elapsed": 3049,
     "status": "ok",
     "timestamp": 1640791665395,
     "user": {
      "displayName": "Pooya Esmaeil Akhondy",
      "photoUrl": "https://lh3.googleusercontent.com/a/default-user=s64",
      "userId": "04838859383550688705"
     },
     "user_tz": -210
    },
    "id": "iTtikCOHoE1X",
    "outputId": "c600adac-7f58-4de3-b778-659e2fccb753"
   },
   "outputs": [
    {
     "name": "stderr",
     "output_type": "stream",
     "text": [
      "/usr/local/lib/python3.7/dist-packages/torch/nn/functional.py:4066: UserWarning: Default grid_sample and affine_grid behavior has changed to align_corners=False since 1.3.0. Please specify align_corners=True if the old behavior is desired. See the documentation of grid_sample for details.\n",
      "  \"Default grid_sample and affine_grid behavior has changed \"\n",
      "/usr/local/lib/python3.7/dist-packages/torch/nn/functional.py:4004: UserWarning: Default grid_sample and affine_grid behavior has changed to align_corners=False since 1.3.0. Please specify align_corners=True if the old behavior is desired. See the documentation of grid_sample for details.\n",
      "  \"Default grid_sample and affine_grid behavior has changed \"\n"
     ]
    },
    {
     "data": {
      "image/png": "[encoded data removed]",
      "text/plain": [
       "<Figure size 216x216 with 2 Axes>"
      ]
     },
     "metadata": {
      "needs_background": "light"
     },
     "output_type": "display_data"
    },
    {
     "data": {
      "image/png": "[encoded data removed]",
      "text/plain": [
       "<Figure size 216x216 with 2 Axes>"
      ]
     },
     "metadata": {
      "needs_background": "light"
     },
     "output_type": "display_data"
    },
    {
     "data": {
      "image/png": "[encoded data removed]",
      "text/plain": [
       "<Figure size 216x216 with 2 Axes>"
      ]
     },
     "metadata": {
      "needs_background": "light"
     },
     "output_type": "display_data"
    },
    {
     "data": {
      "image/png": "[encoded data removed]",
      "text/plain": [
       "<Figure size 216x216 with 2 Axes>"
      ]
     },
     "metadata": {
      "needs_background": "light"
     },
     "output_type": "display_data"
    },
    {
     "data": {
      "image/png": "[encoded data removed]",
      "text/plain": [
       "<Figure size 216x216 with 2 Axes>"
      ]
     },
     "metadata": {
      "needs_background": "light"
     },
     "output_type": "display_data"
    },
    {
     "data": {
      "image/png": "[encoded data removed]",
      "text/plain": [
       "<Figure size 216x216 with 2 Axes>"
      ]
     },
     "metadata": {
      "needs_background": "light"
     },
     "output_type": "display_data"
    },
    {
     "data": {
      "image/png": "[encoded data removed]",
      "text/plain": [
       "<Figure size 216x216 with 2 Axes>"
      ]
     },
     "metadata": {
      "needs_background": "light"
     },
     "output_type": "display_data"
    },
    {
     "data": {
      "image/png": "[encoded data removed]",
      "text/plain": [
       "<Figure size 216x216 with 2 Axes>"
      ]
     },
     "metadata": {
      "needs_background": "light"
     },
     "output_type": "display_data"
    },
    {
     "data": {
      "image/png": "[encoded data removed]",
      "text/plain": [
       "<Figure size 216x216 with 2 Axes>"
      ]
     },
     "metadata": {
      "needs_background": "light"
     },
     "output_type": "display_data"
    },
    {
     "data": {
      "image/png": "[encoded data removed]",
      "text/plain": [
       "<Figure size 216x216 with 2 Axes>"
      ]
     },
     "metadata": {
      "needs_background": "light"
     },
     "output_type": "display_data"
    },
    {
     "data": {
      "image/png": "[encoded data removed]",
      "text/plain": [
       "<Figure size 216x216 with 2 Axes>"
      ]
     },
     "metadata": {
      "needs_background": "light"
     },
     "output_type": "display_data"
    },
    {
     "data": {
      "image/png": "[encoded data removed]",
      "text/plain": [
       "<Figure size 216x216 with 2 Axes>"
      ]
     },
     "metadata": {
      "needs_background": "light"
     },
     "output_type": "display_data"
    },
    {
     "data": {
      "image/png": "[encoded data removed]",
      "text/plain": [
       "<Figure size 216x216 with 2 Axes>"
      ]
     },
     "metadata": {
      "needs_background": "light"
     },
     "output_type": "display_data"
    },
    {
     "data": {
      "image/png": "[encoded data removed]",
      "text/plain": [
       "<Figure size 216x216 with 2 Axes>"
      ]
     },
     "metadata": {
      "needs_background": "light"
     },
     "output_type": "display_data"
    },
    {
     "data": {
      "image/png": "[encoded data removed]",
      "text/plain": [
       "<Figure size 216x216 with 2 Axes>"
      ]
     },
     "metadata": {
      "needs_background": "light"
     },
     "output_type": "display_data"
    },
    {
     "data": {
      "image/png": "[encoded data removed]",
      "text/plain": [
       "<Figure size 216x216 with 2 Axes>"
      ]
     },
     "metadata": {
      "needs_background": "light"
     },
     "output_type": "display_data"
    },
    {
     "data": {
      "image/png": "[encoded data removed]",
      "text/plain": [
       "<Figure size 216x216 with 2 Axes>"
      ]
     },
     "metadata": {
      "needs_background": "light"
     },
     "output_type": "display_data"
    },
    {
     "data": {
      "image/png": "[encoded data removed]",
      "text/plain": [
       "<Figure size 216x216 with 2 Axes>"
      ]
     },
     "metadata": {
      "needs_background": "light"
     },
     "output_type": "display_data"
    },
    {
     "data": {
      "image/png": "[encoded data removed]",
      "text/plain": [
       "<Figure size 216x216 with 2 Axes>"
      ]
     },
     "metadata": {
      "needs_background": "light"
     },
     "output_type": "display_data"
    },
    {
     "data": {
      "image/png": "[encoded data removed]",
      "text/plain": [
       "<Figure size 216x216 with 2 Axes>"
      ]
     },
     "metadata": {
      "needs_background": "light"
     },
     "output_type": "display_data"
    }
   ],
   "source": [
    "# This code cell is simply for checking that our model has been saved correctly. \n",
    "# We load it and choose 20 random data from validation dataset and see if results were similar to what we saw before.\n",
    "checkpoint = torch.load(f'/content/gdrive/My Drive/model.pth.tar')\n",
    "model.load_state_dict(checkpoint['state_dict'])\n",
    "optimizer.load_state_dict(checkpoint['optimizer'])\n",
    "\n",
    "for _ in range(20):\n",
    "    ix = np.random.randint(len(val_ds))\n",
    "    im, _ = val_ds[ix]\n",
    "    im1 = im[None]\n",
    "    im1 = prepare_randomly_rotated_image(im1)\n",
    "    im1 = im1.to(device)\n",
    "    _im = model(im1)[0]\n",
    "    fig, ax = plt.subplots(1, 2, figsize = (3,3))\n",
    "    im1 = im1[0]\n",
    "    show(im1[0], ax = ax[0], title = 'input')\n",
    "    show(_im[0], ax = ax[1], title = 'prediction')\n",
    "    plt.tight_layout()\n",
    "    plt.show()"
   ]
  }
 ],
 "metadata": {
  "colab": {
   "authorship_tag": "ABX9TyPKzlJ44fmOTCyUqd38xx8x",
   "collapsed_sections": [],
   "name": "Untitled0.ipynb",
   "provenance": []
  },
  "kernelspec": {
   "display_name": "Python 3",
   "language": "python",
   "name": "python3"
  },
  "language_info": {
   "codemirror_mode": {
    "name": "ipython",
    "version": 3
   },
   "file_extension": ".py",
   "mimetype": "text/x-python",
   "name": "python",
   "nbconvert_exporter": "python",
   "pygments_lexer": "ipython3",
   "version": "3.8.8"
  },
  "widgets": {
   "application/vnd.jupyter.widget-state+json": {
    "00677d4c61f84c6591343e04f300ec16": {
     "model_module": "@jupyter-widgets/controls",
     "model_module_version": "1.5.0",
     "model_name": "FloatProgressModel",
     "state": {
      "_dom_classes": [],
      "_model_module": "@jupyter-widgets/controls",
      "_model_module_version": "1.5.0",
      "_model_name": "FloatProgressModel",
      "_view_count": null,
      "_view_module": "@jupyter-widgets/controls",
      "_view_module_version": "1.5.0",
      "_view_name": "ProgressView",
      "bar_style": "success",
      "description": "",
      "description_tooltip": null,
      "layout": "IPY_MODEL_96874252b9f047eba8d742169aef9c03",
      "max": 1648877,
      "min": 0,
      "orientation": "horizontal",
      "style": "IPY_MODEL_db8c59bf0a724cbbafdc2cd4960ab7d8",
      "value": 1648877
     }
    },
    "0d6e6fbe97084f48a9545db710df82cf": {
     "model_module": "@jupyter-widgets/controls",
     "model_module_version": "1.5.0",
     "model_name": "FloatProgressModel",
     "state": {
      "_dom_classes": [],
      "_model_module": "@jupyter-widgets/controls",
      "_model_module_version": "1.5.0",
      "_model_name": "FloatProgressModel",
      "_view_count": null,
      "_view_module": "@jupyter-widgets/controls",
      "_view_module_version": "1.5.0",
      "_view_name": "ProgressView",
      "bar_style": "success",
      "description": "",
      "description_tooltip": null,
      "layout": "IPY_MODEL_0e9d6f39f8f44fbaabe56057ee8fbc63",
      "max": 4542,
      "min": 0,
      "orientation": "horizontal",
      "style": "IPY_MODEL_32eb769e7bf74088918034b863dff7ec",
      "value": 4542
     }
    },
    "0e9d6f39f8f44fbaabe56057ee8fbc63": {
     "model_module": "@jupyter-widgets/base",
     "model_module_version": "1.2.0",
     "model_name": "LayoutModel",
     "state": {
      "_model_module": "@jupyter-widgets/base",
      "_model_module_version": "1.2.0",
      "_model_name": "LayoutModel",
      "_view_count": null,
      "_view_module": "@jupyter-widgets/base",
      "_view_module_version": "1.2.0",
      "_view_name": "LayoutView",
      "align_content": null,
      "align_items": null,
      "align_self": null,
      "border": null,
      "bottom": null,
      "display": null,
      "flex": null,
      "flex_flow": null,
      "grid_area": null,
      "grid_auto_columns": null,
      "grid_auto_flow": null,
      "grid_auto_rows": null,
      "grid_column": null,
      "grid_gap": null,
      "grid_row": null,
      "grid_template_areas": null,
      "grid_template_columns": null,
      "grid_template_rows": null,
      "height": null,
      "justify_content": null,
      "justify_items": null,
      "left": null,
      "margin": null,
      "max_height": null,
      "max_width": null,
      "min_height": null,
      "min_width": null,
      "object_fit": null,
      "object_position": null,
      "order": null,
      "overflow": null,
      "overflow_x": null,
      "overflow_y": null,
      "padding": null,
      "right": null,
      "top": null,
      "visibility": null,
      "width": null
     }
    },
    "104336b0613b4e8abf428dd96ab16b4b": {
     "model_module": "@jupyter-widgets/base",
     "model_module_version": "1.2.0",
     "model_name": "LayoutModel",
     "state": {
      "_model_module": "@jupyter-widgets/base",
      "_model_module_version": "1.2.0",
      "_model_name": "LayoutModel",
      "_view_count": null,
      "_view_module": "@jupyter-widgets/base",
      "_view_module_version": "1.2.0",
      "_view_name": "LayoutView",
      "align_content": null,
      "align_items": null,
      "align_self": null,
      "border": null,
      "bottom": null,
      "display": null,
      "flex": null,
      "flex_flow": null,
      "grid_area": null,
      "grid_auto_columns": null,
      "grid_auto_flow": null,
      "grid_auto_rows": null,
      "grid_column": null,
      "grid_gap": null,
      "grid_row": null,
      "grid_template_areas": null,
      "grid_template_columns": null,
      "grid_template_rows": null,
      "height": null,
      "justify_content": null,
      "justify_items": null,
      "left": null,
      "margin": null,
      "max_height": null,
      "max_width": null,
      "min_height": null,
      "min_width": null,
      "object_fit": null,
      "object_position": null,
      "order": null,
      "overflow": null,
      "overflow_x": null,
      "overflow_y": null,
      "padding": null,
      "right": null,
      "top": null,
      "visibility": null,
      "width": null
     }
    },
    "2778d1dc880a427fa203987e61374030": {
     "model_module": "@jupyter-widgets/controls",
     "model_module_version": "1.5.0",
     "model_name": "DescriptionStyleModel",
     "state": {
      "_model_module": "@jupyter-widgets/controls",
      "_model_module_version": "1.5.0",
      "_model_name": "DescriptionStyleModel",
      "_view_count": null,
      "_view_module": "@jupyter-widgets/base",
      "_view_module_version": "1.2.0",
      "_view_name": "StyleView",
      "description_width": ""
     }
    },
    "27c5fd79bdcc4c03a459d22124979ad5": {
     "model_module": "@jupyter-widgets/controls",
     "model_module_version": "1.5.0",
     "model_name": "DescriptionStyleModel",
     "state": {
      "_model_module": "@jupyter-widgets/controls",
      "_model_module_version": "1.5.0",
      "_model_name": "DescriptionStyleModel",
      "_view_count": null,
      "_view_module": "@jupyter-widgets/base",
      "_view_module_version": "1.2.0",
      "_view_name": "StyleView",
      "description_width": ""
     }
    },
    "2a7c8bde24024aabbae97fda574e4259": {
     "model_module": "@jupyter-widgets/controls",
     "model_module_version": "1.5.0",
     "model_name": "ProgressStyleModel",
     "state": {
      "_model_module": "@jupyter-widgets/controls",
      "_model_module_version": "1.5.0",
      "_model_name": "ProgressStyleModel",
      "_view_count": null,
      "_view_module": "@jupyter-widgets/base",
      "_view_module_version": "1.2.0",
      "_view_name": "StyleView",
      "bar_color": null,
      "description_width": ""
     }
    },
    "32eb769e7bf74088918034b863dff7ec": {
     "model_module": "@jupyter-widgets/controls",
     "model_module_version": "1.5.0",
     "model_name": "ProgressStyleModel",
     "state": {
      "_model_module": "@jupyter-widgets/controls",
      "_model_module_version": "1.5.0",
      "_model_name": "ProgressStyleModel",
      "_view_count": null,
      "_view_module": "@jupyter-widgets/base",
      "_view_module_version": "1.2.0",
      "_view_name": "StyleView",
      "bar_color": null,
      "description_width": ""
     }
    },
    "32ee46bcddd84c86a9d2647085d84107": {
     "model_module": "@jupyter-widgets/controls",
     "model_module_version": "1.5.0",
     "model_name": "HTMLModel",
     "state": {
      "_dom_classes": [],
      "_model_module": "@jupyter-widgets/controls",
      "_model_module_version": "1.5.0",
      "_model_name": "HTMLModel",
      "_view_count": null,
      "_view_module": "@jupyter-widgets/controls",
      "_view_module_version": "1.5.0",
      "_view_name": "HTMLView",
      "description": "",
      "description_tooltip": null,
      "layout": "IPY_MODEL_a8f25b1e58104eea91ea83d2278efa73",
      "placeholder": "​",
      "style": "IPY_MODEL_6c18f1c4b0754e48bb7e3750d969808c",
      "value": " 1649664/? [00:00&lt;00:00, 6921801.02it/s]"
     }
    },
    "330c5870d21147149e403a76002684c8": {
     "model_module": "@jupyter-widgets/controls",
     "model_module_version": "1.5.0",
     "model_name": "DescriptionStyleModel",
     "state": {
      "_model_module": "@jupyter-widgets/controls",
      "_model_module_version": "1.5.0",
      "_model_name": "DescriptionStyleModel",
      "_view_count": null,
      "_view_module": "@jupyter-widgets/base",
      "_view_module_version": "1.2.0",
      "_view_name": "StyleView",
      "description_width": ""
     }
    },
    "350298c5512947b79028b40dc5d626e4": {
     "model_module": "@jupyter-widgets/controls",
     "model_module_version": "1.5.0",
     "model_name": "HBoxModel",
     "state": {
      "_dom_classes": [],
      "_model_module": "@jupyter-widgets/controls",
      "_model_module_version": "1.5.0",
      "_model_name": "HBoxModel",
      "_view_count": null,
      "_view_module": "@jupyter-widgets/controls",
      "_view_module_version": "1.5.0",
      "_view_name": "HBoxView",
      "box_style": "",
      "children": [
       "IPY_MODEL_af9caea80bd84d1584e488ea92c6f502",
       "IPY_MODEL_beb6de42fd9f4e58a0620f06a6a71859",
       "IPY_MODEL_925c7a00fbd8431e8f1c3d53cbe822ea"
      ],
      "layout": "IPY_MODEL_520d3ec2d827401980f843f67308fdc3"
     }
    },
    "35780b85d2cf4416947d202fc3179b90": {
     "model_module": "@jupyter-widgets/controls",
     "model_module_version": "1.5.0",
     "model_name": "HTMLModel",
     "state": {
      "_dom_classes": [],
      "_model_module": "@jupyter-widgets/controls",
      "_model_module_version": "1.5.0",
      "_model_name": "HTMLModel",
      "_view_count": null,
      "_view_module": "@jupyter-widgets/controls",
      "_view_module_version": "1.5.0",
      "_view_name": "HTMLView",
      "description": "",
      "description_tooltip": null,
      "layout": "IPY_MODEL_fa92b3ff650f418ab61fbc3b5000f4a4",
      "placeholder": "​",
      "style": "IPY_MODEL_8e88ab1696fa43b39e5d80f32fcbb386",
      "value": " 5120/? [00:00&lt;00:00, 109078.53it/s]"
     }
    },
    "3a3ecb188aa3462088d2ce9f2bb70858": {
     "model_module": "@jupyter-widgets/controls",
     "model_module_version": "1.5.0",
     "model_name": "HBoxModel",
     "state": {
      "_dom_classes": [],
      "_model_module": "@jupyter-widgets/controls",
      "_model_module_version": "1.5.0",
      "_model_name": "HBoxModel",
      "_view_count": null,
      "_view_module": "@jupyter-widgets/controls",
      "_view_module_version": "1.5.0",
      "_view_name": "HBoxView",
      "box_style": "",
      "children": [
       "IPY_MODEL_5460a156d2f14c61be43d771d55f4a88",
       "IPY_MODEL_0d6e6fbe97084f48a9545db710df82cf",
       "IPY_MODEL_35780b85d2cf4416947d202fc3179b90"
      ],
      "layout": "IPY_MODEL_912cc5586883499cbddcd8e1acc36041"
     }
    },
    "3ee0881a4a624d79acde36cf16d8b7ba": {
     "model_module": "@jupyter-widgets/base",
     "model_module_version": "1.2.0",
     "model_name": "LayoutModel",
     "state": {
      "_model_module": "@jupyter-widgets/base",
      "_model_module_version": "1.2.0",
      "_model_name": "LayoutModel",
      "_view_count": null,
      "_view_module": "@jupyter-widgets/base",
      "_view_module_version": "1.2.0",
      "_view_name": "LayoutView",
      "align_content": null,
      "align_items": null,
      "align_self": null,
      "border": null,
      "bottom": null,
      "display": null,
      "flex": null,
      "flex_flow": null,
      "grid_area": null,
      "grid_auto_columns": null,
      "grid_auto_flow": null,
      "grid_auto_rows": null,
      "grid_column": null,
      "grid_gap": null,
      "grid_row": null,
      "grid_template_areas": null,
      "grid_template_columns": null,
      "grid_template_rows": null,
      "height": null,
      "justify_content": null,
      "justify_items": null,
      "left": null,
      "margin": null,
      "max_height": null,
      "max_width": null,
      "min_height": null,
      "min_width": null,
      "object_fit": null,
      "object_position": null,
      "order": null,
      "overflow": null,
      "overflow_x": null,
      "overflow_y": null,
      "padding": null,
      "right": null,
      "top": null,
      "visibility": null,
      "width": null
     }
    },
    "51bf36ffbbcd44e798c9ffc049b2d191": {
     "model_module": "@jupyter-widgets/base",
     "model_module_version": "1.2.0",
     "model_name": "LayoutModel",
     "state": {
      "_model_module": "@jupyter-widgets/base",
      "_model_module_version": "1.2.0",
      "_model_name": "LayoutModel",
      "_view_count": null,
      "_view_module": "@jupyter-widgets/base",
      "_view_module_version": "1.2.0",
      "_view_name": "LayoutView",
      "align_content": null,
      "align_items": null,
      "align_self": null,
      "border": null,
      "bottom": null,
      "display": null,
      "flex": null,
      "flex_flow": null,
      "grid_area": null,
      "grid_auto_columns": null,
      "grid_auto_flow": null,
      "grid_auto_rows": null,
      "grid_column": null,
      "grid_gap": null,
      "grid_row": null,
      "grid_template_areas": null,
      "grid_template_columns": null,
      "grid_template_rows": null,
      "height": null,
      "justify_content": null,
      "justify_items": null,
      "left": null,
      "margin": null,
      "max_height": null,
      "max_width": null,
      "min_height": null,
      "min_width": null,
      "object_fit": null,
      "object_position": null,
      "order": null,
      "overflow": null,
      "overflow_x": null,
      "overflow_y": null,
      "padding": null,
      "right": null,
      "top": null,
      "visibility": null,
      "width": null
     }
    },
    "520d3ec2d827401980f843f67308fdc3": {
     "model_module": "@jupyter-widgets/base",
     "model_module_version": "1.2.0",
     "model_name": "LayoutModel",
     "state": {
      "_model_module": "@jupyter-widgets/base",
      "_model_module_version": "1.2.0",
      "_model_name": "LayoutModel",
      "_view_count": null,
      "_view_module": "@jupyter-widgets/base",
      "_view_module_version": "1.2.0",
      "_view_name": "LayoutView",
      "align_content": null,
      "align_items": null,
      "align_self": null,
      "border": null,
      "bottom": null,
      "display": null,
      "flex": null,
      "flex_flow": null,
      "grid_area": null,
      "grid_auto_columns": null,
      "grid_auto_flow": null,
      "grid_auto_rows": null,
      "grid_column": null,
      "grid_gap": null,
      "grid_row": null,
      "grid_template_areas": null,
      "grid_template_columns": null,
      "grid_template_rows": null,
      "height": null,
      "justify_content": null,
      "justify_items": null,
      "left": null,
      "margin": null,
      "max_height": null,
      "max_width": null,
      "min_height": null,
      "min_width": null,
      "object_fit": null,
      "object_position": null,
      "order": null,
      "overflow": null,
      "overflow_x": null,
      "overflow_y": null,
      "padding": null,
      "right": null,
      "top": null,
      "visibility": null,
      "width": null
     }
    },
    "5460a156d2f14c61be43d771d55f4a88": {
     "model_module": "@jupyter-widgets/controls",
     "model_module_version": "1.5.0",
     "model_name": "HTMLModel",
     "state": {
      "_dom_classes": [],
      "_model_module": "@jupyter-widgets/controls",
      "_model_module_version": "1.5.0",
      "_model_name": "HTMLModel",
      "_view_count": null,
      "_view_module": "@jupyter-widgets/controls",
      "_view_module_version": "1.5.0",
      "_view_name": "HTMLView",
      "description": "",
      "description_tooltip": null,
      "layout": "IPY_MODEL_6eafa515d9774037a03e242a6ae95ac4",
      "placeholder": "​",
      "style": "IPY_MODEL_27c5fd79bdcc4c03a459d22124979ad5",
      "value": ""
     }
    },
    "6c18f1c4b0754e48bb7e3750d969808c": {
     "model_module": "@jupyter-widgets/controls",
     "model_module_version": "1.5.0",
     "model_name": "DescriptionStyleModel",
     "state": {
      "_model_module": "@jupyter-widgets/controls",
      "_model_module_version": "1.5.0",
      "_model_name": "DescriptionStyleModel",
      "_view_count": null,
      "_view_module": "@jupyter-widgets/base",
      "_view_module_version": "1.2.0",
      "_view_name": "StyleView",
      "description_width": ""
     }
    },
    "6eafa515d9774037a03e242a6ae95ac4": {
     "model_module": "@jupyter-widgets/base",
     "model_module_version": "1.2.0",
     "model_name": "LayoutModel",
     "state": {
      "_model_module": "@jupyter-widgets/base",
      "_model_module_version": "1.2.0",
      "_model_name": "LayoutModel",
      "_view_count": null,
      "_view_module": "@jupyter-widgets/base",
      "_view_module_version": "1.2.0",
      "_view_name": "LayoutView",
      "align_content": null,
      "align_items": null,
      "align_self": null,
      "border": null,
      "bottom": null,
      "display": null,
      "flex": null,
      "flex_flow": null,
      "grid_area": null,
      "grid_auto_columns": null,
      "grid_auto_flow": null,
      "grid_auto_rows": null,
      "grid_column": null,
      "grid_gap": null,
      "grid_row": null,
      "grid_template_areas": null,
      "grid_template_columns": null,
      "grid_template_rows": null,
      "height": null,
      "justify_content": null,
      "justify_items": null,
      "left": null,
      "margin": null,
      "max_height": null,
      "max_width": null,
      "min_height": null,
      "min_width": null,
      "object_fit": null,
      "object_position": null,
      "order": null,
      "overflow": null,
      "overflow_x": null,
      "overflow_y": null,
      "padding": null,
      "right": null,
      "top": null,
      "visibility": null,
      "width": null
     }
    },
    "79d8a30b16f84e28854ab5d005f8de0e": {
     "model_module": "@jupyter-widgets/controls",
     "model_module_version": "1.5.0",
     "model_name": "ProgressStyleModel",
     "state": {
      "_model_module": "@jupyter-widgets/controls",
      "_model_module_version": "1.5.0",
      "_model_name": "ProgressStyleModel",
      "_view_count": null,
      "_view_module": "@jupyter-widgets/base",
      "_view_module_version": "1.2.0",
      "_view_name": "StyleView",
      "bar_color": null,
      "description_width": ""
     }
    },
    "7f1f17f2dd4a4fda84554cc8d9dfff77": {
     "model_module": "@jupyter-widgets/base",
     "model_module_version": "1.2.0",
     "model_name": "LayoutModel",
     "state": {
      "_model_module": "@jupyter-widgets/base",
      "_model_module_version": "1.2.0",
      "_model_name": "LayoutModel",
      "_view_count": null,
      "_view_module": "@jupyter-widgets/base",
      "_view_module_version": "1.2.0",
      "_view_name": "LayoutView",
      "align_content": null,
      "align_items": null,
      "align_self": null,
      "border": null,
      "bottom": null,
      "display": null,
      "flex": null,
      "flex_flow": null,
      "grid_area": null,
      "grid_auto_columns": null,
      "grid_auto_flow": null,
      "grid_auto_rows": null,
      "grid_column": null,
      "grid_gap": null,
      "grid_row": null,
      "grid_template_areas": null,
      "grid_template_columns": null,
      "grid_template_rows": null,
      "height": null,
      "justify_content": null,
      "justify_items": null,
      "left": null,
      "margin": null,
      "max_height": null,
      "max_width": null,
      "min_height": null,
      "min_width": null,
      "object_fit": null,
      "object_position": null,
      "order": null,
      "overflow": null,
      "overflow_x": null,
      "overflow_y": null,
      "padding": null,
      "right": null,
      "top": null,
      "visibility": null,
      "width": null
     }
    },
    "8a62c29f01be4d8d993e630b0b8586f2": {
     "model_module": "@jupyter-widgets/base",
     "model_module_version": "1.2.0",
     "model_name": "LayoutModel",
     "state": {
      "_model_module": "@jupyter-widgets/base",
      "_model_module_version": "1.2.0",
      "_model_name": "LayoutModel",
      "_view_count": null,
      "_view_module": "@jupyter-widgets/base",
      "_view_module_version": "1.2.0",
      "_view_name": "LayoutView",
      "align_content": null,
      "align_items": null,
      "align_self": null,
      "border": null,
      "bottom": null,
      "display": null,
      "flex": null,
      "flex_flow": null,
      "grid_area": null,
      "grid_auto_columns": null,
      "grid_auto_flow": null,
      "grid_auto_rows": null,
      "grid_column": null,
      "grid_gap": null,
      "grid_row": null,
      "grid_template_areas": null,
      "grid_template_columns": null,
      "grid_template_rows": null,
      "height": null,
      "justify_content": null,
      "justify_items": null,
      "left": null,
      "margin": null,
      "max_height": null,
      "max_width": null,
      "min_height": null,
      "min_width": null,
      "object_fit": null,
      "object_position": null,
      "order": null,
      "overflow": null,
      "overflow_x": null,
      "overflow_y": null,
      "padding": null,
      "right": null,
      "top": null,
      "visibility": null,
      "width": null
     }
    },
    "8e88ab1696fa43b39e5d80f32fcbb386": {
     "model_module": "@jupyter-widgets/controls",
     "model_module_version": "1.5.0",
     "model_name": "DescriptionStyleModel",
     "state": {
      "_model_module": "@jupyter-widgets/controls",
      "_model_module_version": "1.5.0",
      "_model_name": "DescriptionStyleModel",
      "_view_count": null,
      "_view_module": "@jupyter-widgets/base",
      "_view_module_version": "1.2.0",
      "_view_name": "StyleView",
      "description_width": ""
     }
    },
    "912cc5586883499cbddcd8e1acc36041": {
     "model_module": "@jupyter-widgets/base",
     "model_module_version": "1.2.0",
     "model_name": "LayoutModel",
     "state": {
      "_model_module": "@jupyter-widgets/base",
      "_model_module_version": "1.2.0",
      "_model_name": "LayoutModel",
      "_view_count": null,
      "_view_module": "@jupyter-widgets/base",
      "_view_module_version": "1.2.0",
      "_view_name": "LayoutView",
      "align_content": null,
      "align_items": null,
      "align_self": null,
      "border": null,
      "bottom": null,
      "display": null,
      "flex": null,
      "flex_flow": null,
      "grid_area": null,
      "grid_auto_columns": null,
      "grid_auto_flow": null,
      "grid_auto_rows": null,
      "grid_column": null,
      "grid_gap": null,
      "grid_row": null,
      "grid_template_areas": null,
      "grid_template_columns": null,
      "grid_template_rows": null,
      "height": null,
      "justify_content": null,
      "justify_items": null,
      "left": null,
      "margin": null,
      "max_height": null,
      "max_width": null,
      "min_height": null,
      "min_width": null,
      "object_fit": null,
      "object_position": null,
      "order": null,
      "overflow": null,
      "overflow_x": null,
      "overflow_y": null,
      "padding": null,
      "right": null,
      "top": null,
      "visibility": null,
      "width": null
     }
    },
    "925c7a00fbd8431e8f1c3d53cbe822ea": {
     "model_module": "@jupyter-widgets/controls",
     "model_module_version": "1.5.0",
     "model_name": "HTMLModel",
     "state": {
      "_dom_classes": [],
      "_model_module": "@jupyter-widgets/controls",
      "_model_module_version": "1.5.0",
      "_model_name": "HTMLModel",
      "_view_count": null,
      "_view_module": "@jupyter-widgets/controls",
      "_view_module_version": "1.5.0",
      "_view_name": "HTMLView",
      "description": "",
      "description_tooltip": null,
      "layout": "IPY_MODEL_aafeb670e0614a39b0113b1e27cd4acf",
      "placeholder": "​",
      "style": "IPY_MODEL_dc481bd40639419c8cbd4552c7605329",
      "value": " 29696/? [00:00&lt;00:00, 640281.97it/s]"
     }
    },
    "96874252b9f047eba8d742169aef9c03": {
     "model_module": "@jupyter-widgets/base",
     "model_module_version": "1.2.0",
     "model_name": "LayoutModel",
     "state": {
      "_model_module": "@jupyter-widgets/base",
      "_model_module_version": "1.2.0",
      "_model_name": "LayoutModel",
      "_view_count": null,
      "_view_module": "@jupyter-widgets/base",
      "_view_module_version": "1.2.0",
      "_view_name": "LayoutView",
      "align_content": null,
      "align_items": null,
      "align_self": null,
      "border": null,
      "bottom": null,
      "display": null,
      "flex": null,
      "flex_flow": null,
      "grid_area": null,
      "grid_auto_columns": null,
      "grid_auto_flow": null,
      "grid_auto_rows": null,
      "grid_column": null,
      "grid_gap": null,
      "grid_row": null,
      "grid_template_areas": null,
      "grid_template_columns": null,
      "grid_template_rows": null,
      "height": null,
      "justify_content": null,
      "justify_items": null,
      "left": null,
      "margin": null,
      "max_height": null,
      "max_width": null,
      "min_height": null,
      "min_width": null,
      "object_fit": null,
      "object_position": null,
      "order": null,
      "overflow": null,
      "overflow_x": null,
      "overflow_y": null,
      "padding": null,
      "right": null,
      "top": null,
      "visibility": null,
      "width": null
     }
    },
    "98b9926c6c6149c783be21f841ce197b": {
     "model_module": "@jupyter-widgets/base",
     "model_module_version": "1.2.0",
     "model_name": "LayoutModel",
     "state": {
      "_model_module": "@jupyter-widgets/base",
      "_model_module_version": "1.2.0",
      "_model_name": "LayoutModel",
      "_view_count": null,
      "_view_module": "@jupyter-widgets/base",
      "_view_module_version": "1.2.0",
      "_view_name": "LayoutView",
      "align_content": null,
      "align_items": null,
      "align_self": null,
      "border": null,
      "bottom": null,
      "display": null,
      "flex": null,
      "flex_flow": null,
      "grid_area": null,
      "grid_auto_columns": null,
      "grid_auto_flow": null,
      "grid_auto_rows": null,
      "grid_column": null,
      "grid_gap": null,
      "grid_row": null,
      "grid_template_areas": null,
      "grid_template_columns": null,
      "grid_template_rows": null,
      "height": null,
      "justify_content": null,
      "justify_items": null,
      "left": null,
      "margin": null,
      "max_height": null,
      "max_width": null,
      "min_height": null,
      "min_width": null,
      "object_fit": null,
      "object_position": null,
      "order": null,
      "overflow": null,
      "overflow_x": null,
      "overflow_y": null,
      "padding": null,
      "right": null,
      "top": null,
      "visibility": null,
      "width": null
     }
    },
    "a31d54442c894700a467345a2a09a91b": {
     "model_module": "@jupyter-widgets/controls",
     "model_module_version": "1.5.0",
     "model_name": "FloatProgressModel",
     "state": {
      "_dom_classes": [],
      "_model_module": "@jupyter-widgets/controls",
      "_model_module_version": "1.5.0",
      "_model_name": "FloatProgressModel",
      "_view_count": null,
      "_view_module": "@jupyter-widgets/controls",
      "_view_module_version": "1.5.0",
      "_view_name": "ProgressView",
      "bar_style": "success",
      "description": "",
      "description_tooltip": null,
      "layout": "IPY_MODEL_98b9926c6c6149c783be21f841ce197b",
      "max": 9912422,
      "min": 0,
      "orientation": "horizontal",
      "style": "IPY_MODEL_79d8a30b16f84e28854ab5d005f8de0e",
      "value": 9912422
     }
    },
    "a8f25b1e58104eea91ea83d2278efa73": {
     "model_module": "@jupyter-widgets/base",
     "model_module_version": "1.2.0",
     "model_name": "LayoutModel",
     "state": {
      "_model_module": "@jupyter-widgets/base",
      "_model_module_version": "1.2.0",
      "_model_name": "LayoutModel",
      "_view_count": null,
      "_view_module": "@jupyter-widgets/base",
      "_view_module_version": "1.2.0",
      "_view_name": "LayoutView",
      "align_content": null,
      "align_items": null,
      "align_self": null,
      "border": null,
      "bottom": null,
      "display": null,
      "flex": null,
      "flex_flow": null,
      "grid_area": null,
      "grid_auto_columns": null,
      "grid_auto_flow": null,
      "grid_auto_rows": null,
      "grid_column": null,
      "grid_gap": null,
      "grid_row": null,
      "grid_template_areas": null,
      "grid_template_columns": null,
      "grid_template_rows": null,
      "height": null,
      "justify_content": null,
      "justify_items": null,
      "left": null,
      "margin": null,
      "max_height": null,
      "max_width": null,
      "min_height": null,
      "min_width": null,
      "object_fit": null,
      "object_position": null,
      "order": null,
      "overflow": null,
      "overflow_x": null,
      "overflow_y": null,
      "padding": null,
      "right": null,
      "top": null,
      "visibility": null,
      "width": null
     }
    },
    "aafeb670e0614a39b0113b1e27cd4acf": {
     "model_module": "@jupyter-widgets/base",
     "model_module_version": "1.2.0",
     "model_name": "LayoutModel",
     "state": {
      "_model_module": "@jupyter-widgets/base",
      "_model_module_version": "1.2.0",
      "_model_name": "LayoutModel",
      "_view_count": null,
      "_view_module": "@jupyter-widgets/base",
      "_view_module_version": "1.2.0",
      "_view_name": "LayoutView",
      "align_content": null,
      "align_items": null,
      "align_self": null,
      "border": null,
      "bottom": null,
      "display": null,
      "flex": null,
      "flex_flow": null,
      "grid_area": null,
      "grid_auto_columns": null,
      "grid_auto_flow": null,
      "grid_auto_rows": null,
      "grid_column": null,
      "grid_gap": null,
      "grid_row": null,
      "grid_template_areas": null,
      "grid_template_columns": null,
      "grid_template_rows": null,
      "height": null,
      "justify_content": null,
      "justify_items": null,
      "left": null,
      "margin": null,
      "max_height": null,
      "max_width": null,
      "min_height": null,
      "min_width": null,
      "object_fit": null,
      "object_position": null,
      "order": null,
      "overflow": null,
      "overflow_x": null,
      "overflow_y": null,
      "padding": null,
      "right": null,
      "top": null,
      "visibility": null,
      "width": null
     }
    },
    "ac10dfb20b3b4bb69009e6ab3edf51b9": {
     "model_module": "@jupyter-widgets/controls",
     "model_module_version": "1.5.0",
     "model_name": "HTMLModel",
     "state": {
      "_dom_classes": [],
      "_model_module": "@jupyter-widgets/controls",
      "_model_module_version": "1.5.0",
      "_model_name": "HTMLModel",
      "_view_count": null,
      "_view_module": "@jupyter-widgets/controls",
      "_view_module_version": "1.5.0",
      "_view_name": "HTMLView",
      "description": "",
      "description_tooltip": null,
      "layout": "IPY_MODEL_8a62c29f01be4d8d993e630b0b8586f2",
      "placeholder": "​",
      "style": "IPY_MODEL_e11878ccd1ee479d809cbcc5ec1117c9",
      "value": ""
     }
    },
    "af9caea80bd84d1584e488ea92c6f502": {
     "model_module": "@jupyter-widgets/controls",
     "model_module_version": "1.5.0",
     "model_name": "HTMLModel",
     "state": {
      "_dom_classes": [],
      "_model_module": "@jupyter-widgets/controls",
      "_model_module_version": "1.5.0",
      "_model_name": "HTMLModel",
      "_view_count": null,
      "_view_module": "@jupyter-widgets/controls",
      "_view_module_version": "1.5.0",
      "_view_name": "HTMLView",
      "description": "",
      "description_tooltip": null,
      "layout": "IPY_MODEL_b937b1b49d7842d1a7139c13e12f7354",
      "placeholder": "​",
      "style": "IPY_MODEL_2778d1dc880a427fa203987e61374030",
      "value": ""
     }
    },
    "b937b1b49d7842d1a7139c13e12f7354": {
     "model_module": "@jupyter-widgets/base",
     "model_module_version": "1.2.0",
     "model_name": "LayoutModel",
     "state": {
      "_model_module": "@jupyter-widgets/base",
      "_model_module_version": "1.2.0",
      "_model_name": "LayoutModel",
      "_view_count": null,
      "_view_module": "@jupyter-widgets/base",
      "_view_module_version": "1.2.0",
      "_view_name": "LayoutView",
      "align_content": null,
      "align_items": null,
      "align_self": null,
      "border": null,
      "bottom": null,
      "display": null,
      "flex": null,
      "flex_flow": null,
      "grid_area": null,
      "grid_auto_columns": null,
      "grid_auto_flow": null,
      "grid_auto_rows": null,
      "grid_column": null,
      "grid_gap": null,
      "grid_row": null,
      "grid_template_areas": null,
      "grid_template_columns": null,
      "grid_template_rows": null,
      "height": null,
      "justify_content": null,
      "justify_items": null,
      "left": null,
      "margin": null,
      "max_height": null,
      "max_width": null,
      "min_height": null,
      "min_width": null,
      "object_fit": null,
      "object_position": null,
      "order": null,
      "overflow": null,
      "overflow_x": null,
      "overflow_y": null,
      "padding": null,
      "right": null,
      "top": null,
      "visibility": null,
      "width": null
     }
    },
    "ba3a8de66ad944268ab1301830241c4e": {
     "model_module": "@jupyter-widgets/controls",
     "model_module_version": "1.5.0",
     "model_name": "HBoxModel",
     "state": {
      "_dom_classes": [],
      "_model_module": "@jupyter-widgets/controls",
      "_model_module_version": "1.5.0",
      "_model_name": "HBoxModel",
      "_view_count": null,
      "_view_module": "@jupyter-widgets/controls",
      "_view_module_version": "1.5.0",
      "_view_name": "HBoxView",
      "box_style": "",
      "children": [
       "IPY_MODEL_ac10dfb20b3b4bb69009e6ab3edf51b9",
       "IPY_MODEL_00677d4c61f84c6591343e04f300ec16",
       "IPY_MODEL_32ee46bcddd84c86a9d2647085d84107"
      ],
      "layout": "IPY_MODEL_7f1f17f2dd4a4fda84554cc8d9dfff77"
     }
    },
    "beb6de42fd9f4e58a0620f06a6a71859": {
     "model_module": "@jupyter-widgets/controls",
     "model_module_version": "1.5.0",
     "model_name": "FloatProgressModel",
     "state": {
      "_dom_classes": [],
      "_model_module": "@jupyter-widgets/controls",
      "_model_module_version": "1.5.0",
      "_model_name": "FloatProgressModel",
      "_view_count": null,
      "_view_module": "@jupyter-widgets/controls",
      "_view_module_version": "1.5.0",
      "_view_name": "ProgressView",
      "bar_style": "success",
      "description": "",
      "description_tooltip": null,
      "layout": "IPY_MODEL_ecdb2076991045e2ad12cb60466aaf7f",
      "max": 28881,
      "min": 0,
      "orientation": "horizontal",
      "style": "IPY_MODEL_2a7c8bde24024aabbae97fda574e4259",
      "value": 28881
     }
    },
    "ccc9b10e617b479897d9aa9a9898fe67": {
     "model_module": "@jupyter-widgets/controls",
     "model_module_version": "1.5.0",
     "model_name": "DescriptionStyleModel",
     "state": {
      "_model_module": "@jupyter-widgets/controls",
      "_model_module_version": "1.5.0",
      "_model_name": "DescriptionStyleModel",
      "_view_count": null,
      "_view_module": "@jupyter-widgets/base",
      "_view_module_version": "1.2.0",
      "_view_name": "StyleView",
      "description_width": ""
     }
    },
    "cdd6ecf3e99c44928bb9f835855c2b8f": {
     "model_module": "@jupyter-widgets/controls",
     "model_module_version": "1.5.0",
     "model_name": "HTMLModel",
     "state": {
      "_dom_classes": [],
      "_model_module": "@jupyter-widgets/controls",
      "_model_module_version": "1.5.0",
      "_model_name": "HTMLModel",
      "_view_count": null,
      "_view_module": "@jupyter-widgets/controls",
      "_view_module_version": "1.5.0",
      "_view_name": "HTMLView",
      "description": "",
      "description_tooltip": null,
      "layout": "IPY_MODEL_3ee0881a4a624d79acde36cf16d8b7ba",
      "placeholder": "​",
      "style": "IPY_MODEL_330c5870d21147149e403a76002684c8",
      "value": " 9913344/? [00:00&lt;00:00, 44065389.84it/s]"
     }
    },
    "db8c59bf0a724cbbafdc2cd4960ab7d8": {
     "model_module": "@jupyter-widgets/controls",
     "model_module_version": "1.5.0",
     "model_name": "ProgressStyleModel",
     "state": {
      "_model_module": "@jupyter-widgets/controls",
      "_model_module_version": "1.5.0",
      "_model_name": "ProgressStyleModel",
      "_view_count": null,
      "_view_module": "@jupyter-widgets/base",
      "_view_module_version": "1.2.0",
      "_view_name": "StyleView",
      "bar_color": null,
      "description_width": ""
     }
    },
    "dc481bd40639419c8cbd4552c7605329": {
     "model_module": "@jupyter-widgets/controls",
     "model_module_version": "1.5.0",
     "model_name": "DescriptionStyleModel",
     "state": {
      "_model_module": "@jupyter-widgets/controls",
      "_model_module_version": "1.5.0",
      "_model_name": "DescriptionStyleModel",
      "_view_count": null,
      "_view_module": "@jupyter-widgets/base",
      "_view_module_version": "1.2.0",
      "_view_name": "StyleView",
      "description_width": ""
     }
    },
    "e11878ccd1ee479d809cbcc5ec1117c9": {
     "model_module": "@jupyter-widgets/controls",
     "model_module_version": "1.5.0",
     "model_name": "DescriptionStyleModel",
     "state": {
      "_model_module": "@jupyter-widgets/controls",
      "_model_module_version": "1.5.0",
      "_model_name": "DescriptionStyleModel",
      "_view_count": null,
      "_view_module": "@jupyter-widgets/base",
      "_view_module_version": "1.2.0",
      "_view_name": "StyleView",
      "description_width": ""
     }
    },
    "ecdb2076991045e2ad12cb60466aaf7f": {
     "model_module": "@jupyter-widgets/base",
     "model_module_version": "1.2.0",
     "model_name": "LayoutModel",
     "state": {
      "_model_module": "@jupyter-widgets/base",
      "_model_module_version": "1.2.0",
      "_model_name": "LayoutModel",
      "_view_count": null,
      "_view_module": "@jupyter-widgets/base",
      "_view_module_version": "1.2.0",
      "_view_name": "LayoutView",
      "align_content": null,
      "align_items": null,
      "align_self": null,
      "border": null,
      "bottom": null,
      "display": null,
      "flex": null,
      "flex_flow": null,
      "grid_area": null,
      "grid_auto_columns": null,
      "grid_auto_flow": null,
      "grid_auto_rows": null,
      "grid_column": null,
      "grid_gap": null,
      "grid_row": null,
      "grid_template_areas": null,
      "grid_template_columns": null,
      "grid_template_rows": null,
      "height": null,
      "justify_content": null,
      "justify_items": null,
      "left": null,
      "margin": null,
      "max_height": null,
      "max_width": null,
      "min_height": null,
      "min_width": null,
      "object_fit": null,
      "object_position": null,
      "order": null,
      "overflow": null,
      "overflow_x": null,
      "overflow_y": null,
      "padding": null,
      "right": null,
      "top": null,
      "visibility": null,
      "width": null
     }
    },
    "f50c9d55fb0140219d39c24377e92419": {
     "model_module": "@jupyter-widgets/controls",
     "model_module_version": "1.5.0",
     "model_name": "HBoxModel",
     "state": {
      "_dom_classes": [],
      "_model_module": "@jupyter-widgets/controls",
      "_model_module_version": "1.5.0",
      "_model_name": "HBoxModel",
      "_view_count": null,
      "_view_module": "@jupyter-widgets/controls",
      "_view_module_version": "1.5.0",
      "_view_name": "HBoxView",
      "box_style": "",
      "children": [
       "IPY_MODEL_f6f40f018dab4ac49241371032fa6b88",
       "IPY_MODEL_a31d54442c894700a467345a2a09a91b",
       "IPY_MODEL_cdd6ecf3e99c44928bb9f835855c2b8f"
      ],
      "layout": "IPY_MODEL_51bf36ffbbcd44e798c9ffc049b2d191"
     }
    },
    "f6f40f018dab4ac49241371032fa6b88": {
     "model_module": "@jupyter-widgets/controls",
     "model_module_version": "1.5.0",
     "model_name": "HTMLModel",
     "state": {
      "_dom_classes": [],
      "_model_module": "@jupyter-widgets/controls",
      "_model_module_version": "1.5.0",
      "_model_name": "HTMLModel",
      "_view_count": null,
      "_view_module": "@jupyter-widgets/controls",
      "_view_module_version": "1.5.0",
      "_view_name": "HTMLView",
      "description": "",
      "description_tooltip": null,
      "layout": "IPY_MODEL_104336b0613b4e8abf428dd96ab16b4b",
      "placeholder": "​",
      "style": "IPY_MODEL_ccc9b10e617b479897d9aa9a9898fe67",
      "value": ""
     }
    },
    "fa92b3ff650f418ab61fbc3b5000f4a4": {
     "model_module": "@jupyter-widgets/base",
     "model_module_version": "1.2.0",
     "model_name": "LayoutModel",
     "state": {
      "_model_module": "@jupyter-widgets/base",
      "_model_module_version": "1.2.0",
      "_model_name": "LayoutModel",
      "_view_count": null,
      "_view_module": "@jupyter-widgets/base",
      "_view_module_version": "1.2.0",
      "_view_name": "LayoutView",
      "align_content": null,
      "align_items": null,
      "align_self": null,
      "border": null,
      "bottom": null,
      "display": null,
      "flex": null,
      "flex_flow": null,
      "grid_area": null,
      "grid_auto_columns": null,
      "grid_auto_flow": null,
      "grid_auto_rows": null,
      "grid_column": null,
      "grid_gap": null,
      "grid_row": null,
      "grid_template_areas": null,
      "grid_template_columns": null,
      "grid_template_rows": null,
      "height": null,
      "justify_content": null,
      "justify_items": null,
      "left": null,
      "margin": null,
      "max_height": null,
      "max_width": null,
      "min_height": null,
      "min_width": null,
      "object_fit": null,
      "object_position": null,
      "order": null,
      "overflow": null,
      "overflow_x": null,
      "overflow_y": null,
      "padding": null,
      "right": null,
      "top": null,
      "visibility": null,
      "width": null
     }
    }
   }
  }
 },
 "nbformat": 4,
 "nbformat_minor": 1
}
